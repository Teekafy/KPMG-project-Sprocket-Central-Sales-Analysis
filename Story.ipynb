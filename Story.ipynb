{
 "cells": [
  {
   "cell_type": "markdown",
   "id": "72577cfd-a3a5-4289-b1c1-7ba67df6257d",
   "metadata": {},
   "source": [
    "![Sprocket Central](https://cdn-assets.theforage.com/icons/kpmg_icons/sprocket_central_logo.png)"
   ]
  },
  {
   "cell_type": "markdown",
   "id": "002ba8ed-cde2-455d-98f8-0770dedf1436",
   "metadata": {},
   "source": [
    "## SPROCKET CENTRAL\n",
    "Sprocket Central Pty Ltd is a long-standing KPMG client whom specialises in high-quality bikes and accessible cycling accessories to riders. Their marketing team is looking to boost business by analysing their existing customer dataset to determine customer trends and behaviour. \n",
    "\n",
    "Sprocket Central Pty Ltd has given us a new list of 1000 potential customers with their demographics and attributes. However, these customers do not have prior transaction history with the organisation. \n",
    "\n",
    "The marketing team at Sprocket Central Pty Ltd is sure that, if correctly analysed, the data would reveal useful customer insights which could help optimise resource allocation for targeted marketing. Hence, improve performance by focusing on high value customers.\n"
   ]
  },
  {
   "cell_type": "markdown",
   "id": "333e382d-eaf0-46ba-9af3-2b9f9094af09",
   "metadata": {},
   "source": [
    "## Data Cleaning, Exploratory Data Analysis and Data Visualization."
   ]
  },
  {
   "cell_type": "markdown",
   "id": "b669d815-bc27-4bdb-a168-fb0797ad256f",
   "metadata": {},
   "source": [
    "##### This is a 2017 dataset. The main goal of this project is to recommend which of these **1000** new customers should be targeted to drive the most value for the organisation. "
   ]
  },
  {
   "cell_type": "markdown",
   "id": "fb2bd31d-9e34-4737-87aa-c97a73d6b5c4",
   "metadata": {},
   "source": [
    "In this project we will;\n",
    "- Conduct data quality assessment, data cleaning, and data transformation as needed.\n",
    "- Explore the relationships between the different datasets to identify any patterns and insights that may be relevant to the analysis.\n",
    "- Perform descriptive statistics to gain an understanding of the data distributions.\n",
    "- Visualize the data using graphs, charts, and other visual aids to identify any trends or patterns.\n",
    "- Perform feature engineering, such as creating new variables, combining variables, or transforming variables, to create more meaningful features."
   ]
  },
  {
   "cell_type": "markdown",
   "id": "fc8c7585-7696-4067-b5b1-6bfd6bf54328",
   "metadata": {},
   "source": [
    "### Loading libraries, reading excel(xlsx) files in to dataframes and viewing the data."
   ]
  },
  {
   "cell_type": "markdown",
   "id": "b6f2aadc-d271-4a6f-9049-33feb151b366",
   "metadata": {},
   "source": [
    "#### We will import the required libraries/packages and turn off warnings."
   ]
  },
  {
   "cell_type": "code",
   "execution_count": 2,
   "id": "8e64b41c-799d-4795-9b51-1e848977b76a",
   "metadata": {},
   "outputs": [],
   "source": [
    "# import packages\n",
    "import numpy as np\n",
    "import pandas as pd\n",
    "import matplotlib.pyplot as plt\n",
    "import seaborn as sns\n",
    "%matplotlib inline\n",
    "\n",
    "\n",
    "import warnings\n",
    "warnings.filterwarnings('ignore')"
   ]
  },
  {
   "cell_type": "markdown",
   "id": "9f3c3116-d59e-4baf-9d06-b0ca0c3c4d92",
   "metadata": {},
   "source": [
    "First, we would read the Sprocket Central dataset into a Pandas dataframe and print its summary. There are three(3) datasets - Customer Demographic, Customer Address and Transactions - for targeted customer analysis. Using pandas read_csv function to load the datasets into separate dataframes."
   ]
  },
  {
   "cell_type": "code",
   "execution_count": 28,
   "id": "b6dba5cd-633c-48cb-8d61-3302c0390ed6",
   "metadata": {
    "tags": []
   },
   "outputs": [
    {
     "data": {
      "text/html": [
       "<div>\n",
       "<style scoped>\n",
       "    .dataframe tbody tr th:only-of-type {\n",
       "        vertical-align: middle;\n",
       "    }\n",
       "\n",
       "    .dataframe tbody tr th {\n",
       "        vertical-align: top;\n",
       "    }\n",
       "\n",
       "    .dataframe thead th {\n",
       "        text-align: right;\n",
       "    }\n",
       "</style>\n",
       "<table border=\"1\" class=\"dataframe\">\n",
       "  <thead>\n",
       "    <tr style=\"text-align: right;\">\n",
       "      <th></th>\n",
       "      <th>customer_id</th>\n",
       "      <th>first_name</th>\n",
       "      <th>last_name</th>\n",
       "      <th>gender</th>\n",
       "      <th>past_3_years_bike_related_purchases</th>\n",
       "      <th>DOB</th>\n",
       "      <th>job_title</th>\n",
       "      <th>job_industry_category</th>\n",
       "      <th>wealth_segment</th>\n",
       "      <th>deceased_indicator</th>\n",
       "      <th>default</th>\n",
       "      <th>owns_car</th>\n",
       "      <th>tenure</th>\n",
       "    </tr>\n",
       "  </thead>\n",
       "  <tbody>\n",
       "    <tr>\n",
       "      <th>0</th>\n",
       "      <td>1</td>\n",
       "      <td>Laraine</td>\n",
       "      <td>Medendorp</td>\n",
       "      <td>F</td>\n",
       "      <td>93</td>\n",
       "      <td>1953-10-12</td>\n",
       "      <td>Executive Secretary</td>\n",
       "      <td>Health</td>\n",
       "      <td>Mass Customer</td>\n",
       "      <td>N</td>\n",
       "      <td>\"'</td>\n",
       "      <td>Yes</td>\n",
       "      <td>11.0</td>\n",
       "    </tr>\n",
       "    <tr>\n",
       "      <th>1</th>\n",
       "      <td>2</td>\n",
       "      <td>Eli</td>\n",
       "      <td>Bockman</td>\n",
       "      <td>Male</td>\n",
       "      <td>81</td>\n",
       "      <td>1980-12-16</td>\n",
       "      <td>Administrative Officer</td>\n",
       "      <td>Financial Services</td>\n",
       "      <td>Mass Customer</td>\n",
       "      <td>N</td>\n",
       "      <td>&lt;script&gt;alert('hi')&lt;/script&gt;</td>\n",
       "      <td>Yes</td>\n",
       "      <td>16.0</td>\n",
       "    </tr>\n",
       "    <tr>\n",
       "      <th>2</th>\n",
       "      <td>3</td>\n",
       "      <td>Arlin</td>\n",
       "      <td>Dearle</td>\n",
       "      <td>Male</td>\n",
       "      <td>61</td>\n",
       "      <td>1954-01-20</td>\n",
       "      <td>Recruiting Manager</td>\n",
       "      <td>Property</td>\n",
       "      <td>Mass Customer</td>\n",
       "      <td>N</td>\n",
       "      <td>2018-02-01 00:00:00</td>\n",
       "      <td>Yes</td>\n",
       "      <td>15.0</td>\n",
       "    </tr>\n",
       "    <tr>\n",
       "      <th>3</th>\n",
       "      <td>4</td>\n",
       "      <td>Talbot</td>\n",
       "      <td>NaN</td>\n",
       "      <td>Male</td>\n",
       "      <td>33</td>\n",
       "      <td>1961-10-03</td>\n",
       "      <td>NaN</td>\n",
       "      <td>IT</td>\n",
       "      <td>Mass Customer</td>\n",
       "      <td>N</td>\n",
       "      <td>() { _; } &gt;_[$($())] { touch /tmp/blns.shellsh...</td>\n",
       "      <td>No</td>\n",
       "      <td>7.0</td>\n",
       "    </tr>\n",
       "    <tr>\n",
       "      <th>4</th>\n",
       "      <td>5</td>\n",
       "      <td>Sheila-kathryn</td>\n",
       "      <td>Calton</td>\n",
       "      <td>Female</td>\n",
       "      <td>56</td>\n",
       "      <td>1977-05-13</td>\n",
       "      <td>Senior Editor</td>\n",
       "      <td>NaN</td>\n",
       "      <td>Affluent Customer</td>\n",
       "      <td>N</td>\n",
       "      <td>NIL</td>\n",
       "      <td>Yes</td>\n",
       "      <td>8.0</td>\n",
       "    </tr>\n",
       "  </tbody>\n",
       "</table>\n",
       "</div>"
      ],
      "text/plain": [
       "   customer_id      first_name  last_name  gender  \\\n",
       "0            1         Laraine  Medendorp       F   \n",
       "1            2             Eli    Bockman    Male   \n",
       "2            3           Arlin     Dearle    Male   \n",
       "3            4          Talbot        NaN    Male   \n",
       "4            5  Sheila-kathryn     Calton  Female   \n",
       "\n",
       "   past_3_years_bike_related_purchases        DOB               job_title  \\\n",
       "0                                   93 1953-10-12     Executive Secretary   \n",
       "1                                   81 1980-12-16  Administrative Officer   \n",
       "2                                   61 1954-01-20      Recruiting Manager   \n",
       "3                                   33 1961-10-03                     NaN   \n",
       "4                                   56 1977-05-13           Senior Editor   \n",
       "\n",
       "  job_industry_category     wealth_segment deceased_indicator  \\\n",
       "0                Health      Mass Customer                  N   \n",
       "1    Financial Services      Mass Customer                  N   \n",
       "2              Property      Mass Customer                  N   \n",
       "3                    IT      Mass Customer                  N   \n",
       "4                   NaN  Affluent Customer                  N   \n",
       "\n",
       "                                             default owns_car  tenure  \n",
       "0                                                 \"'      Yes    11.0  \n",
       "1                       <script>alert('hi')</script>      Yes    16.0  \n",
       "2                                2018-02-01 00:00:00      Yes    15.0  \n",
       "3  () { _; } >_[$($())] { touch /tmp/blns.shellsh...       No     7.0  \n",
       "4                                                NIL      Yes     8.0  "
      ]
     },
     "execution_count": 28,
     "metadata": {},
     "output_type": "execute_result"
    }
   ],
   "source": [
    "Customer_Demo = pd.read_excel('C:/Users/HP/Downloads/Customer Demographics.xlsx')\n",
    "Customer_Demo.head()"
   ]
  },
  {
   "cell_type": "code",
   "execution_count": 29,
   "id": "2a26db39-cfe0-4ff2-9f7f-36dcd09b5915",
   "metadata": {
    "tags": []
   },
   "outputs": [
    {
     "data": {
      "text/html": [
       "<div>\n",
       "<style scoped>\n",
       "    .dataframe tbody tr th:only-of-type {\n",
       "        vertical-align: middle;\n",
       "    }\n",
       "\n",
       "    .dataframe tbody tr th {\n",
       "        vertical-align: top;\n",
       "    }\n",
       "\n",
       "    .dataframe thead th {\n",
       "        text-align: right;\n",
       "    }\n",
       "</style>\n",
       "<table border=\"1\" class=\"dataframe\">\n",
       "  <thead>\n",
       "    <tr style=\"text-align: right;\">\n",
       "      <th></th>\n",
       "      <th>customer_id</th>\n",
       "      <th>address</th>\n",
       "      <th>postcode</th>\n",
       "      <th>state</th>\n",
       "      <th>country</th>\n",
       "      <th>property_valuation</th>\n",
       "    </tr>\n",
       "  </thead>\n",
       "  <tbody>\n",
       "    <tr>\n",
       "      <th>0</th>\n",
       "      <td>1</td>\n",
       "      <td>060 Morning Avenue</td>\n",
       "      <td>2016</td>\n",
       "      <td>New South Wales</td>\n",
       "      <td>Australia</td>\n",
       "      <td>10</td>\n",
       "    </tr>\n",
       "    <tr>\n",
       "      <th>1</th>\n",
       "      <td>2</td>\n",
       "      <td>6 Meadow Vale Court</td>\n",
       "      <td>2153</td>\n",
       "      <td>New South Wales</td>\n",
       "      <td>Australia</td>\n",
       "      <td>10</td>\n",
       "    </tr>\n",
       "    <tr>\n",
       "      <th>2</th>\n",
       "      <td>4</td>\n",
       "      <td>0 Holy Cross Court</td>\n",
       "      <td>4211</td>\n",
       "      <td>QLD</td>\n",
       "      <td>Australia</td>\n",
       "      <td>9</td>\n",
       "    </tr>\n",
       "    <tr>\n",
       "      <th>3</th>\n",
       "      <td>5</td>\n",
       "      <td>17979 Del Mar Point</td>\n",
       "      <td>2448</td>\n",
       "      <td>New South Wales</td>\n",
       "      <td>Australia</td>\n",
       "      <td>4</td>\n",
       "    </tr>\n",
       "    <tr>\n",
       "      <th>4</th>\n",
       "      <td>6</td>\n",
       "      <td>9 Oakridge Court</td>\n",
       "      <td>3216</td>\n",
       "      <td>VIC</td>\n",
       "      <td>Australia</td>\n",
       "      <td>9</td>\n",
       "    </tr>\n",
       "  </tbody>\n",
       "</table>\n",
       "</div>"
      ],
      "text/plain": [
       "   customer_id              address  postcode            state    country  \\\n",
       "0            1   060 Morning Avenue      2016  New South Wales  Australia   \n",
       "1            2  6 Meadow Vale Court      2153  New South Wales  Australia   \n",
       "2            4   0 Holy Cross Court      4211              QLD  Australia   \n",
       "3            5  17979 Del Mar Point      2448  New South Wales  Australia   \n",
       "4            6     9 Oakridge Court      3216              VIC  Australia   \n",
       "\n",
       "   property_valuation  \n",
       "0                  10  \n",
       "1                  10  \n",
       "2                   9  \n",
       "3                   4  \n",
       "4                   9  "
      ]
     },
     "execution_count": 29,
     "metadata": {},
     "output_type": "execute_result"
    }
   ],
   "source": [
    "Address = pd.read_excel('C:/Users/HP/Downloads/Customer Address.xlsx')\n",
    "Address.head()"
   ]
  },
  {
   "cell_type": "code",
   "execution_count": 30,
   "id": "e172b739-7001-4ed4-8bc9-097c1cfcaff8",
   "metadata": {
    "tags": []
   },
   "outputs": [
    {
     "data": {
      "text/html": [
       "<div>\n",
       "<style scoped>\n",
       "    .dataframe tbody tr th:only-of-type {\n",
       "        vertical-align: middle;\n",
       "    }\n",
       "\n",
       "    .dataframe tbody tr th {\n",
       "        vertical-align: top;\n",
       "    }\n",
       "\n",
       "    .dataframe thead th {\n",
       "        text-align: right;\n",
       "    }\n",
       "</style>\n",
       "<table border=\"1\" class=\"dataframe\">\n",
       "  <thead>\n",
       "    <tr style=\"text-align: right;\">\n",
       "      <th></th>\n",
       "      <th>transaction_id</th>\n",
       "      <th>product_id</th>\n",
       "      <th>customer_id</th>\n",
       "      <th>transaction_date</th>\n",
       "      <th>online_order</th>\n",
       "      <th>order_status</th>\n",
       "      <th>brand</th>\n",
       "      <th>product_line</th>\n",
       "      <th>product_class</th>\n",
       "      <th>product_size</th>\n",
       "      <th>list_price</th>\n",
       "      <th>standard_cost</th>\n",
       "      <th>product_first_sold_date</th>\n",
       "    </tr>\n",
       "  </thead>\n",
       "  <tbody>\n",
       "    <tr>\n",
       "      <th>0</th>\n",
       "      <td>1</td>\n",
       "      <td>2</td>\n",
       "      <td>2950</td>\n",
       "      <td>2017-02-25</td>\n",
       "      <td>0.0</td>\n",
       "      <td>Approved</td>\n",
       "      <td>Solex</td>\n",
       "      <td>Standard</td>\n",
       "      <td>medium</td>\n",
       "      <td>medium</td>\n",
       "      <td>71.49</td>\n",
       "      <td>53.62</td>\n",
       "      <td>2012-12-02</td>\n",
       "    </tr>\n",
       "    <tr>\n",
       "      <th>1</th>\n",
       "      <td>2</td>\n",
       "      <td>3</td>\n",
       "      <td>3120</td>\n",
       "      <td>2017-05-21</td>\n",
       "      <td>1.0</td>\n",
       "      <td>Approved</td>\n",
       "      <td>Trek Bicycles</td>\n",
       "      <td>Standard</td>\n",
       "      <td>medium</td>\n",
       "      <td>large</td>\n",
       "      <td>2091.47</td>\n",
       "      <td>388.92</td>\n",
       "      <td>2014-03-03</td>\n",
       "    </tr>\n",
       "    <tr>\n",
       "      <th>2</th>\n",
       "      <td>3</td>\n",
       "      <td>37</td>\n",
       "      <td>402</td>\n",
       "      <td>2017-10-16</td>\n",
       "      <td>0.0</td>\n",
       "      <td>Approved</td>\n",
       "      <td>OHM Cycles</td>\n",
       "      <td>Standard</td>\n",
       "      <td>low</td>\n",
       "      <td>medium</td>\n",
       "      <td>1793.43</td>\n",
       "      <td>248.82</td>\n",
       "      <td>1999-07-20</td>\n",
       "    </tr>\n",
       "    <tr>\n",
       "      <th>3</th>\n",
       "      <td>4</td>\n",
       "      <td>88</td>\n",
       "      <td>3135</td>\n",
       "      <td>2017-08-31</td>\n",
       "      <td>0.0</td>\n",
       "      <td>Approved</td>\n",
       "      <td>Norco Bicycles</td>\n",
       "      <td>Standard</td>\n",
       "      <td>medium</td>\n",
       "      <td>medium</td>\n",
       "      <td>1198.46</td>\n",
       "      <td>381.10</td>\n",
       "      <td>1998-12-16</td>\n",
       "    </tr>\n",
       "    <tr>\n",
       "      <th>4</th>\n",
       "      <td>5</td>\n",
       "      <td>78</td>\n",
       "      <td>787</td>\n",
       "      <td>2017-10-01</td>\n",
       "      <td>1.0</td>\n",
       "      <td>Approved</td>\n",
       "      <td>Giant Bicycles</td>\n",
       "      <td>Standard</td>\n",
       "      <td>medium</td>\n",
       "      <td>large</td>\n",
       "      <td>1765.30</td>\n",
       "      <td>709.48</td>\n",
       "      <td>2015-08-10</td>\n",
       "    </tr>\n",
       "  </tbody>\n",
       "</table>\n",
       "</div>"
      ],
      "text/plain": [
       "   transaction_id  product_id  customer_id transaction_date  online_order  \\\n",
       "0               1           2         2950       2017-02-25           0.0   \n",
       "1               2           3         3120       2017-05-21           1.0   \n",
       "2               3          37          402       2017-10-16           0.0   \n",
       "3               4          88         3135       2017-08-31           0.0   \n",
       "4               5          78          787       2017-10-01           1.0   \n",
       "\n",
       "  order_status           brand product_line product_class product_size  \\\n",
       "0     Approved           Solex     Standard        medium       medium   \n",
       "1     Approved   Trek Bicycles     Standard        medium        large   \n",
       "2     Approved      OHM Cycles     Standard           low       medium   \n",
       "3     Approved  Norco Bicycles     Standard        medium       medium   \n",
       "4     Approved  Giant Bicycles     Standard        medium        large   \n",
       "\n",
       "   list_price  standard_cost product_first_sold_date  \n",
       "0       71.49          53.62              2012-12-02  \n",
       "1     2091.47         388.92              2014-03-03  \n",
       "2     1793.43         248.82              1999-07-20  \n",
       "3     1198.46         381.10              1998-12-16  \n",
       "4     1765.30         709.48              2015-08-10  "
      ]
     },
     "execution_count": 30,
     "metadata": {},
     "output_type": "execute_result"
    }
   ],
   "source": [
    "Transactions = pd.read_excel('C:/Users/HP/Downloads/Transactions.xlsx')\n",
    "Transactions.head()"
   ]
  },
  {
   "cell_type": "markdown",
   "id": "e9bdb93d-8c29-4dfc-9854-9893b92221ab",
   "metadata": {},
   "source": [
    "## Lets do some Data Cleaning!"
   ]
  },
  {
   "cell_type": "code",
   "execution_count": 31,
   "id": "ce345d44-0a93-4f97-b2fe-030e180be090",
   "metadata": {},
   "outputs": [
    {
     "name": "stdout",
     "output_type": "stream",
     "text": [
      "Duplicates have been dropped\n"
     ]
    }
   ],
   "source": [
    "# dropping duplicates\n",
    "Customer_Demo.drop_duplicates(inplace = True)\n",
    "Address.drop_duplicates(inplace = True)\n",
    "Transactions.drop_duplicates(inplace = True)\n",
    "print(\"Duplicates have been dropped\")"
   ]
  },
  {
   "cell_type": "code",
   "execution_count": 32,
   "id": "b0358d16-88f7-4bf9-bc1e-9ae9af45ea33",
   "metadata": {},
   "outputs": [
    {
     "name": "stdout",
     "output_type": "stream",
     "text": [
      "<class 'pandas.core.frame.DataFrame'>\n",
      "Int64Index: 4000 entries, 0 to 3999\n",
      "Data columns (total 13 columns):\n",
      " #   Column                               Non-Null Count  Dtype         \n",
      "---  ------                               --------------  -----         \n",
      " 0   customer_id                          4000 non-null   int64         \n",
      " 1   first_name                           4000 non-null   object        \n",
      " 2   last_name                            3875 non-null   object        \n",
      " 3   gender                               4000 non-null   object        \n",
      " 4   past_3_years_bike_related_purchases  4000 non-null   int64         \n",
      " 5   DOB                                  3913 non-null   datetime64[ns]\n",
      " 6   job_title                            3494 non-null   object        \n",
      " 7   job_industry_category                3344 non-null   object        \n",
      " 8   wealth_segment                       4000 non-null   object        \n",
      " 9   deceased_indicator                   4000 non-null   object        \n",
      " 10  default                              3698 non-null   object        \n",
      " 11  owns_car                             4000 non-null   object        \n",
      " 12  tenure                               3913 non-null   float64       \n",
      "dtypes: datetime64[ns](1), float64(1), int64(2), object(9)\n",
      "memory usage: 437.5+ KB\n"
     ]
    }
   ],
   "source": [
    "Customer_Demo.info()"
   ]
  },
  {
   "cell_type": "code",
   "execution_count": 33,
   "id": "1fb7ce96-5f0e-45f7-be2c-ade37200c292",
   "metadata": {},
   "outputs": [],
   "source": [
    "# dropping unwanted columns\n",
    "Customer_Demo = Customer_Demo.drop('default', axis = 1)"
   ]
  },
  {
   "cell_type": "code",
   "execution_count": 34,
   "id": "8a7a90c8-a063-4e7b-96a2-9ac180770c12",
   "metadata": {},
   "outputs": [
    {
     "name": "stdout",
     "output_type": "stream",
     "text": [
      "Replacement Complete\n"
     ]
    }
   ],
   "source": [
    "# data replacement\n",
    "# replacing gender with right values for consistency\n",
    "Customer_Demo['gender'] = Customer_Demo['gender'].replace('F', 'Female')\n",
    "Customer_Demo['gender'] = Customer_Demo['gender'].replace('f', 'Female')\n",
    "Customer_Demo['gender'] = Customer_Demo['gender'].replace('M', 'Male')\n",
    "Customer_Demo['gender'] = Customer_Demo['gender'].replace('m', 'Male')\n",
    "Customer_Demo['gender'] = Customer_Demo['gender'].replace('Femal', 'Female')\n",
    "Customer_Demo['gender'] = Customer_Demo['gender'].replace('U', pd.np.nan)\n",
    "\n",
    "\n",
    "#replcaing unknown DOB values with Nan\n",
    "Customer_Demo['DOB'] = Customer_Demo['DOB'].replace('', pd.np.nan)\n",
    "\n",
    "#replacing other unknown values with Nan\n",
    "Customer_Demo['job_title'] = Customer_Demo['job_title'].replace('', pd.np.nan)\n",
    "Customer_Demo['deceased_indicator'] = Customer_Demo['deceased_indicator'].replace('N', 'No')\n",
    "Customer_Demo['deceased_indicator'] = Customer_Demo['deceased_indicator'].replace('Y', 'Yes')\n",
    "Customer_Demo['job_title'] = Customer_Demo['job_title'].replace('Coordiator', 'Coordinator')\n",
    "Customer_Demo['job_title'] = Customer_Demo['job_title'].replace('Practicioner', 'Practitioner')\n",
    "\n",
    "print(\"Replacement Complete\")"
   ]
  },
  {
   "cell_type": "code",
   "execution_count": 35,
   "id": "88a65bc6-6f89-4452-be14-d24fa9add7ec",
   "metadata": {
    "tags": []
   },
   "outputs": [
    {
     "name": "stdout",
     "output_type": "stream",
     "text": [
      "<class 'pandas.core.frame.DataFrame'>\n",
      "Int64Index: 3999 entries, 0 to 3998\n",
      "Data columns (total 6 columns):\n",
      " #   Column              Non-Null Count  Dtype \n",
      "---  ------              --------------  ----- \n",
      " 0   customer_id         3999 non-null   int64 \n",
      " 1   address             3999 non-null   object\n",
      " 2   postcode            3999 non-null   int64 \n",
      " 3   state               3999 non-null   object\n",
      " 4   country             3999 non-null   object\n",
      " 5   property_valuation  3999 non-null   int64 \n",
      "dtypes: int64(3), object(3)\n",
      "memory usage: 218.7+ KB\n"
     ]
    }
   ],
   "source": [
    "Address.info()"
   ]
  },
  {
   "cell_type": "code",
   "execution_count": 36,
   "id": "e9ae2e30-b7c6-4f14-951a-801b46b2101f",
   "metadata": {},
   "outputs": [
    {
     "name": "stdout",
     "output_type": "stream",
     "text": [
      "Replacement Complete\n"
     ]
    }
   ],
   "source": [
    "# data replacement\n",
    "# replacing state initals with the right values for consistency\n",
    "Address['state'] = Address['state'].replace('NSW', 'New South Wales')\n",
    "Address['state'] = Address['state'].replace('VIC', 'Victoria')\n",
    "Address['state'] = Address['state'].replace('QLD', 'Queensland')\n",
    "\n",
    "print(\"Replacement Complete\")"
   ]
  },
  {
   "cell_type": "code",
   "execution_count": 37,
   "id": "a960934c-8ad7-4990-8a9f-15562f995edd",
   "metadata": {},
   "outputs": [],
   "source": [
    "# adding commas to the addresses\n",
    "import re\n",
    "Address['address'] = Address['address'].apply(lambda x: re.sub(r'(\\d+)', r'\\1,', x))"
   ]
  },
  {
   "cell_type": "code",
   "execution_count": 38,
   "id": "146b8191-7a29-4479-bf9f-92f9e64374ea",
   "metadata": {},
   "outputs": [
    {
     "name": "stdout",
     "output_type": "stream",
     "text": [
      "<class 'pandas.core.frame.DataFrame'>\n",
      "Int64Index: 20000 entries, 0 to 19999\n",
      "Data columns (total 13 columns):\n",
      " #   Column                   Non-Null Count  Dtype         \n",
      "---  ------                   --------------  -----         \n",
      " 0   transaction_id           20000 non-null  int64         \n",
      " 1   product_id               20000 non-null  int64         \n",
      " 2   customer_id              20000 non-null  int64         \n",
      " 3   transaction_date         20000 non-null  datetime64[ns]\n",
      " 4   online_order             19640 non-null  float64       \n",
      " 5   order_status             20000 non-null  object        \n",
      " 6   brand                    19803 non-null  object        \n",
      " 7   product_line             19803 non-null  object        \n",
      " 8   product_class            19803 non-null  object        \n",
      " 9   product_size             19803 non-null  object        \n",
      " 10  list_price               20000 non-null  float64       \n",
      " 11  standard_cost            19803 non-null  float64       \n",
      " 12  product_first_sold_date  19803 non-null  datetime64[ns]\n",
      "dtypes: datetime64[ns](2), float64(3), int64(3), object(5)\n",
      "memory usage: 2.1+ MB\n"
     ]
    }
   ],
   "source": [
    "Transactions.info()"
   ]
  },
  {
   "cell_type": "code",
   "execution_count": 39,
   "id": "a7c6bd89-654c-4f26-bea2-8b97c95f74cc",
   "metadata": {},
   "outputs": [],
   "source": [
    "# changing data type\n",
    "# online order should be a True or False value (Boolean)\n",
    "Transactions['online_order'] = Transactions['online_order'].astype(bool)"
   ]
  },
  {
   "cell_type": "code",
   "execution_count": 40,
   "id": "94f1ff77-600a-4b2a-9e72-98ee3de96bee",
   "metadata": {},
   "outputs": [],
   "source": [
    "# data replacement\n",
    "Transactions = Transactions.replace('', pd.np.nan)\n"
   ]
  },
  {
   "cell_type": "code",
   "execution_count": 41,
   "id": "cb537f95-725e-4e09-9492-7fc8c7c5ce31",
   "metadata": {},
   "outputs": [
    {
     "data": {
      "text/plain": [
       "customer_id                            4000\n",
       "first_name                             3139\n",
       "last_name                              3725\n",
       "gender                                    2\n",
       "past_3_years_bike_related_purchases     100\n",
       "DOB                                    3448\n",
       "job_title                               195\n",
       "job_industry_category                     9\n",
       "wealth_segment                            3\n",
       "deceased_indicator                        2\n",
       "owns_car                                  2\n",
       "tenure                                   22\n",
       "dtype: int64"
      ]
     },
     "execution_count": 41,
     "metadata": {},
     "output_type": "execute_result"
    }
   ],
   "source": [
    "# Number of unique/distinct values\n",
    "Customer_Demo.nunique()"
   ]
  },
  {
   "cell_type": "code",
   "execution_count": 42,
   "id": "814d8243-b0c6-4988-8cf6-f0a140177da4",
   "metadata": {},
   "outputs": [
    {
     "data": {
      "text/plain": [
       "customer_id           3999\n",
       "address               3996\n",
       "postcode               873\n",
       "state                    3\n",
       "country                  1\n",
       "property_valuation      12\n",
       "dtype: int64"
      ]
     },
     "execution_count": 42,
     "metadata": {},
     "output_type": "execute_result"
    }
   ],
   "source": [
    "Address.nunique() "
   ]
  },
  {
   "cell_type": "code",
   "execution_count": 43,
   "id": "4ece816d-926d-49d4-bd9d-fff5d6798379",
   "metadata": {},
   "outputs": [
    {
     "data": {
      "text/plain": [
       "transaction_id             20000\n",
       "product_id                   101\n",
       "customer_id                 3494\n",
       "transaction_date             364\n",
       "online_order                   2\n",
       "order_status                   2\n",
       "brand                          6\n",
       "product_line                   4\n",
       "product_class                  3\n",
       "product_size                   3\n",
       "list_price                   296\n",
       "standard_cost                103\n",
       "product_first_sold_date      100\n",
       "dtype: int64"
      ]
     },
     "execution_count": 43,
     "metadata": {},
     "output_type": "execute_result"
    }
   ],
   "source": [
    "Transactions.nunique() "
   ]
  },
  {
   "cell_type": "markdown",
   "id": "d7bc8dda-9081-4d96-ab27-ba1abc7ba6dd",
   "metadata": {},
   "source": [
    "### Let us join or merge the three tables for analysis"
   ]
  },
  {
   "cell_type": "code",
   "execution_count": 44,
   "id": "71e545ee-75af-4e2f-952f-b6bc1282a5a1",
   "metadata": {},
   "outputs": [
    {
     "data": {
      "text/html": [
       "<div>\n",
       "<style scoped>\n",
       "    .dataframe tbody tr th:only-of-type {\n",
       "        vertical-align: middle;\n",
       "    }\n",
       "\n",
       "    .dataframe tbody tr th {\n",
       "        vertical-align: top;\n",
       "    }\n",
       "\n",
       "    .dataframe thead th {\n",
       "        text-align: right;\n",
       "    }\n",
       "</style>\n",
       "<table border=\"1\" class=\"dataframe\">\n",
       "  <thead>\n",
       "    <tr style=\"text-align: right;\">\n",
       "      <th></th>\n",
       "      <th>customer_id</th>\n",
       "      <th>first_name</th>\n",
       "      <th>last_name</th>\n",
       "      <th>gender</th>\n",
       "      <th>past_3_years_bike_related_purchases</th>\n",
       "      <th>DOB</th>\n",
       "      <th>job_title</th>\n",
       "      <th>job_industry_category</th>\n",
       "      <th>wealth_segment</th>\n",
       "      <th>deceased_indicator</th>\n",
       "      <th>...</th>\n",
       "      <th>transaction_date</th>\n",
       "      <th>online_order</th>\n",
       "      <th>order_status</th>\n",
       "      <th>brand</th>\n",
       "      <th>product_line</th>\n",
       "      <th>product_class</th>\n",
       "      <th>product_size</th>\n",
       "      <th>list_price</th>\n",
       "      <th>standard_cost</th>\n",
       "      <th>product_first_sold_date</th>\n",
       "    </tr>\n",
       "  </thead>\n",
       "  <tbody>\n",
       "    <tr>\n",
       "      <th>0</th>\n",
       "      <td>1</td>\n",
       "      <td>Laraine</td>\n",
       "      <td>Medendorp</td>\n",
       "      <td>Female</td>\n",
       "      <td>93</td>\n",
       "      <td>1953-10-12</td>\n",
       "      <td>Executive Secretary</td>\n",
       "      <td>Health</td>\n",
       "      <td>Mass Customer</td>\n",
       "      <td>No</td>\n",
       "      <td>...</td>\n",
       "      <td>2017-12-23</td>\n",
       "      <td>False</td>\n",
       "      <td>Approved</td>\n",
       "      <td>OHM Cycles</td>\n",
       "      <td>Standard</td>\n",
       "      <td>medium</td>\n",
       "      <td>medium</td>\n",
       "      <td>235.63</td>\n",
       "      <td>125.07</td>\n",
       "      <td>2005-05-10</td>\n",
       "    </tr>\n",
       "    <tr>\n",
       "      <th>1</th>\n",
       "      <td>1</td>\n",
       "      <td>Laraine</td>\n",
       "      <td>Medendorp</td>\n",
       "      <td>Female</td>\n",
       "      <td>93</td>\n",
       "      <td>1953-10-12</td>\n",
       "      <td>Executive Secretary</td>\n",
       "      <td>Health</td>\n",
       "      <td>Mass Customer</td>\n",
       "      <td>No</td>\n",
       "      <td>...</td>\n",
       "      <td>2017-04-06</td>\n",
       "      <td>True</td>\n",
       "      <td>Approved</td>\n",
       "      <td>Solex</td>\n",
       "      <td>Standard</td>\n",
       "      <td>medium</td>\n",
       "      <td>medium</td>\n",
       "      <td>1577.53</td>\n",
       "      <td>826.51</td>\n",
       "      <td>2008-03-19</td>\n",
       "    </tr>\n",
       "    <tr>\n",
       "      <th>2</th>\n",
       "      <td>1</td>\n",
       "      <td>Laraine</td>\n",
       "      <td>Medendorp</td>\n",
       "      <td>Female</td>\n",
       "      <td>93</td>\n",
       "      <td>1953-10-12</td>\n",
       "      <td>Executive Secretary</td>\n",
       "      <td>Health</td>\n",
       "      <td>Mass Customer</td>\n",
       "      <td>No</td>\n",
       "      <td>...</td>\n",
       "      <td>2017-05-11</td>\n",
       "      <td>True</td>\n",
       "      <td>Approved</td>\n",
       "      <td>Trek Bicycles</td>\n",
       "      <td>Road</td>\n",
       "      <td>low</td>\n",
       "      <td>small</td>\n",
       "      <td>1720.70</td>\n",
       "      <td>1531.42</td>\n",
       "      <td>2003-07-21</td>\n",
       "    </tr>\n",
       "    <tr>\n",
       "      <th>3</th>\n",
       "      <td>1</td>\n",
       "      <td>Laraine</td>\n",
       "      <td>Medendorp</td>\n",
       "      <td>Female</td>\n",
       "      <td>93</td>\n",
       "      <td>1953-10-12</td>\n",
       "      <td>Executive Secretary</td>\n",
       "      <td>Health</td>\n",
       "      <td>Mass Customer</td>\n",
       "      <td>No</td>\n",
       "      <td>...</td>\n",
       "      <td>2017-01-05</td>\n",
       "      <td>False</td>\n",
       "      <td>Approved</td>\n",
       "      <td>Norco Bicycles</td>\n",
       "      <td>Standard</td>\n",
       "      <td>medium</td>\n",
       "      <td>medium</td>\n",
       "      <td>360.40</td>\n",
       "      <td>270.30</td>\n",
       "      <td>2003-09-09</td>\n",
       "    </tr>\n",
       "    <tr>\n",
       "      <th>4</th>\n",
       "      <td>1</td>\n",
       "      <td>Laraine</td>\n",
       "      <td>Medendorp</td>\n",
       "      <td>Female</td>\n",
       "      <td>93</td>\n",
       "      <td>1953-10-12</td>\n",
       "      <td>Executive Secretary</td>\n",
       "      <td>Health</td>\n",
       "      <td>Mass Customer</td>\n",
       "      <td>No</td>\n",
       "      <td>...</td>\n",
       "      <td>2017-02-21</td>\n",
       "      <td>False</td>\n",
       "      <td>Approved</td>\n",
       "      <td>Solex</td>\n",
       "      <td>Standard</td>\n",
       "      <td>medium</td>\n",
       "      <td>medium</td>\n",
       "      <td>71.49</td>\n",
       "      <td>53.62</td>\n",
       "      <td>2005-08-09</td>\n",
       "    </tr>\n",
       "  </tbody>\n",
       "</table>\n",
       "<p>5 rows × 29 columns</p>\n",
       "</div>"
      ],
      "text/plain": [
       "   customer_id first_name  last_name  gender  \\\n",
       "0            1    Laraine  Medendorp  Female   \n",
       "1            1    Laraine  Medendorp  Female   \n",
       "2            1    Laraine  Medendorp  Female   \n",
       "3            1    Laraine  Medendorp  Female   \n",
       "4            1    Laraine  Medendorp  Female   \n",
       "\n",
       "   past_3_years_bike_related_purchases        DOB            job_title  \\\n",
       "0                                   93 1953-10-12  Executive Secretary   \n",
       "1                                   93 1953-10-12  Executive Secretary   \n",
       "2                                   93 1953-10-12  Executive Secretary   \n",
       "3                                   93 1953-10-12  Executive Secretary   \n",
       "4                                   93 1953-10-12  Executive Secretary   \n",
       "\n",
       "  job_industry_category wealth_segment deceased_indicator  ...  \\\n",
       "0                Health  Mass Customer                 No  ...   \n",
       "1                Health  Mass Customer                 No  ...   \n",
       "2                Health  Mass Customer                 No  ...   \n",
       "3                Health  Mass Customer                 No  ...   \n",
       "4                Health  Mass Customer                 No  ...   \n",
       "\n",
       "  transaction_date  online_order order_status           brand product_line  \\\n",
       "0       2017-12-23         False     Approved      OHM Cycles     Standard   \n",
       "1       2017-04-06          True     Approved           Solex     Standard   \n",
       "2       2017-05-11          True     Approved   Trek Bicycles         Road   \n",
       "3       2017-01-05         False     Approved  Norco Bicycles     Standard   \n",
       "4       2017-02-21         False     Approved           Solex     Standard   \n",
       "\n",
       "  product_class  product_size  list_price  standard_cost  \\\n",
       "0        medium        medium      235.63         125.07   \n",
       "1        medium        medium     1577.53         826.51   \n",
       "2           low         small     1720.70        1531.42   \n",
       "3        medium        medium      360.40         270.30   \n",
       "4        medium        medium       71.49          53.62   \n",
       "\n",
       "  product_first_sold_date  \n",
       "0              2005-05-10  \n",
       "1              2008-03-19  \n",
       "2              2003-07-21  \n",
       "3              2003-09-09  \n",
       "4              2005-08-09  \n",
       "\n",
       "[5 rows x 29 columns]"
      ]
     },
     "execution_count": 44,
     "metadata": {},
     "output_type": "execute_result"
    }
   ],
   "source": [
    "Customers = pd.merge(Customer_Demo, Address, on = \"customer_id\") \\\n",
    "                     .merge(Transactions, on = \"customer_id\")\n",
    "Customers.head()"
   ]
  },
  {
   "cell_type": "code",
   "execution_count": 45,
   "id": "24e721f8-6350-4fd8-b8bb-13e9adc8c2aa",
   "metadata": {},
   "outputs": [
    {
     "data": {
      "text/plain": [
       "customer_id                             3489\n",
       "first_name                              2835\n",
       "last_name                               3263\n",
       "gender                                     2\n",
       "past_3_years_bike_related_purchases      100\n",
       "DOB                                     3047\n",
       "job_title                                195\n",
       "job_industry_category                      9\n",
       "wealth_segment                             3\n",
       "deceased_indicator                         2\n",
       "owns_car                                   2\n",
       "tenure                                    22\n",
       "address                                 3487\n",
       "postcode                                 835\n",
       "state                                      3\n",
       "country                                    1\n",
       "property_valuation                        12\n",
       "transaction_id                         19968\n",
       "product_id                               101\n",
       "transaction_date                         364\n",
       "online_order                               2\n",
       "order_status                               2\n",
       "brand                                      6\n",
       "product_line                               4\n",
       "product_class                              3\n",
       "product_size                               3\n",
       "list_price                               294\n",
       "standard_cost                            100\n",
       "product_first_sold_date                  100\n",
       "dtype: int64"
      ]
     },
     "execution_count": 45,
     "metadata": {},
     "output_type": "execute_result"
    }
   ],
   "source": [
    "Customers.nunique()"
   ]
  },
  {
   "cell_type": "code",
   "execution_count": 46,
   "id": "ce9f1df5-8af3-4a34-8784-f3c0884e9782",
   "metadata": {},
   "outputs": [
    {
     "name": "stdout",
     "output_type": "stream",
     "text": [
      "<class 'pandas.core.frame.DataFrame'>\n",
      "Int64Index: 19968 entries, 0 to 19967\n",
      "Data columns (total 29 columns):\n",
      " #   Column                               Non-Null Count  Dtype         \n",
      "---  ------                               --------------  -----         \n",
      " 0   customer_id                          19968 non-null  int64         \n",
      " 1   first_name                           19968 non-null  object        \n",
      " 2   last_name                            19326 non-null  object        \n",
      " 3   gender                               19513 non-null  object        \n",
      " 4   past_3_years_bike_related_purchases  19968 non-null  int64         \n",
      " 5   DOB                                  19522 non-null  datetime64[ns]\n",
      " 6   job_title                            17589 non-null  object        \n",
      " 7   job_industry_category                16746 non-null  object        \n",
      " 8   wealth_segment                       19968 non-null  object        \n",
      " 9   deceased_indicator                   19968 non-null  object        \n",
      " 10  owns_car                             19968 non-null  object        \n",
      " 11  tenure                               19522 non-null  float64       \n",
      " 12  address                              19968 non-null  object        \n",
      " 13  postcode                             19968 non-null  int64         \n",
      " 14  state                                19968 non-null  object        \n",
      " 15  country                              19968 non-null  object        \n",
      " 16  property_valuation                   19968 non-null  int64         \n",
      " 17  transaction_id                       19968 non-null  int64         \n",
      " 18  product_id                           19968 non-null  int64         \n",
      " 19  transaction_date                     19968 non-null  datetime64[ns]\n",
      " 20  online_order                         19968 non-null  bool          \n",
      " 21  order_status                         19968 non-null  object        \n",
      " 22  brand                                19773 non-null  object        \n",
      " 23  product_line                         19773 non-null  object        \n",
      " 24  product_class                        19773 non-null  object        \n",
      " 25  product_size                         19773 non-null  object        \n",
      " 26  list_price                           19968 non-null  float64       \n",
      " 27  standard_cost                        19773 non-null  float64       \n",
      " 28  product_first_sold_date              19773 non-null  datetime64[ns]\n",
      "dtypes: bool(1), datetime64[ns](3), float64(3), int64(6), object(16)\n",
      "memory usage: 4.4+ MB\n"
     ]
    }
   ],
   "source": [
    "Customers.info()"
   ]
  },
  {
   "cell_type": "code",
   "execution_count": 47,
   "id": "f48bcb31-d61e-41fa-b02a-5a05aca61cad",
   "metadata": {},
   "outputs": [],
   "source": [
    "Customers[[\"customer_id\", \"postcode\", \"transaction_id\", \"product_id\"]] = Customers[[\"customer_id\", \"postcode\", \"transaction_id\", \"product_id\"]].astype(object)"
   ]
  },
  {
   "cell_type": "code",
   "execution_count": 48,
   "id": "cf50fc8f-f1b4-4262-960c-692db3816082",
   "metadata": {},
   "outputs": [],
   "source": [
    "Customers.drop_duplicates(inplace = True)"
   ]
  },
  {
   "cell_type": "markdown",
   "id": "db55d4e0-b679-4c15-bedd-6af3e7fe961a",
   "metadata": {},
   "source": [
    "# Exploratory Data Analysis"
   ]
  },
  {
   "cell_type": "code",
   "execution_count": 49,
   "id": "8d4ba7bb-667f-4c1d-b58f-68540cae77b4",
   "metadata": {},
   "outputs": [
    {
     "data": {
      "text/html": [
       "<div>\n",
       "<style scoped>\n",
       "    .dataframe tbody tr th:only-of-type {\n",
       "        vertical-align: middle;\n",
       "    }\n",
       "\n",
       "    .dataframe tbody tr th {\n",
       "        vertical-align: top;\n",
       "    }\n",
       "\n",
       "    .dataframe thead th {\n",
       "        text-align: right;\n",
       "    }\n",
       "</style>\n",
       "<table border=\"1\" class=\"dataframe\">\n",
       "  <thead>\n",
       "    <tr style=\"text-align: right;\">\n",
       "      <th></th>\n",
       "      <th>past_3_years_bike_related_purchases</th>\n",
       "      <th>tenure</th>\n",
       "      <th>property_valuation</th>\n",
       "      <th>list_price</th>\n",
       "      <th>standard_cost</th>\n",
       "    </tr>\n",
       "  </thead>\n",
       "  <tbody>\n",
       "    <tr>\n",
       "      <th>count</th>\n",
       "      <td>19968.000000</td>\n",
       "      <td>19522.000000</td>\n",
       "      <td>19968.000000</td>\n",
       "      <td>19968.000000</td>\n",
       "      <td>19773.000000</td>\n",
       "    </tr>\n",
       "    <tr>\n",
       "      <th>mean</th>\n",
       "      <td>48.757412</td>\n",
       "      <td>10.681949</td>\n",
       "      <td>7.516376</td>\n",
       "      <td>1107.780004</td>\n",
       "      <td>556.091050</td>\n",
       "    </tr>\n",
       "    <tr>\n",
       "      <th>std</th>\n",
       "      <td>28.611359</td>\n",
       "      <td>5.674631</td>\n",
       "      <td>2.824783</td>\n",
       "      <td>582.852548</td>\n",
       "      <td>405.966472</td>\n",
       "    </tr>\n",
       "    <tr>\n",
       "      <th>min</th>\n",
       "      <td>0.000000</td>\n",
       "      <td>1.000000</td>\n",
       "      <td>1.000000</td>\n",
       "      <td>12.010000</td>\n",
       "      <td>7.210000</td>\n",
       "    </tr>\n",
       "    <tr>\n",
       "      <th>25%</th>\n",
       "      <td>24.000000</td>\n",
       "      <td>6.000000</td>\n",
       "      <td>6.000000</td>\n",
       "      <td>575.270000</td>\n",
       "      <td>215.140000</td>\n",
       "    </tr>\n",
       "    <tr>\n",
       "      <th>50%</th>\n",
       "      <td>48.000000</td>\n",
       "      <td>11.000000</td>\n",
       "      <td>8.000000</td>\n",
       "      <td>1163.890000</td>\n",
       "      <td>507.580000</td>\n",
       "    </tr>\n",
       "    <tr>\n",
       "      <th>75%</th>\n",
       "      <td>73.000000</td>\n",
       "      <td>15.000000</td>\n",
       "      <td>10.000000</td>\n",
       "      <td>1635.300000</td>\n",
       "      <td>795.100000</td>\n",
       "    </tr>\n",
       "    <tr>\n",
       "      <th>max</th>\n",
       "      <td>99.000000</td>\n",
       "      <td>22.000000</td>\n",
       "      <td>12.000000</td>\n",
       "      <td>2091.470000</td>\n",
       "      <td>1759.850000</td>\n",
       "    </tr>\n",
       "  </tbody>\n",
       "</table>\n",
       "</div>"
      ],
      "text/plain": [
       "       past_3_years_bike_related_purchases        tenure  property_valuation  \\\n",
       "count                         19968.000000  19522.000000        19968.000000   \n",
       "mean                             48.757412     10.681949            7.516376   \n",
       "std                              28.611359      5.674631            2.824783   \n",
       "min                               0.000000      1.000000            1.000000   \n",
       "25%                              24.000000      6.000000            6.000000   \n",
       "50%                              48.000000     11.000000            8.000000   \n",
       "75%                              73.000000     15.000000           10.000000   \n",
       "max                              99.000000     22.000000           12.000000   \n",
       "\n",
       "         list_price  standard_cost  \n",
       "count  19968.000000   19773.000000  \n",
       "mean    1107.780004     556.091050  \n",
       "std      582.852548     405.966472  \n",
       "min       12.010000       7.210000  \n",
       "25%      575.270000     215.140000  \n",
       "50%     1163.890000     507.580000  \n",
       "75%     1635.300000     795.100000  \n",
       "max     2091.470000    1759.850000  "
      ]
     },
     "execution_count": 49,
     "metadata": {},
     "output_type": "execute_result"
    }
   ],
   "source": [
    "Customers.describe()"
   ]
  },
  {
   "cell_type": "markdown",
   "id": "8747335e-9e59-465f-ad4f-5c4c686316c3",
   "metadata": {},
   "source": [
    "#### Since we are targeting the best 1000 customers out of about 3500, let us start by looking out for distinct attributes."
   ]
  },
  {
   "cell_type": "markdown",
   "id": "0550d959-19d0-4360-b3b4-2fa3ca5b734c",
   "metadata": {},
   "source": [
    "> We would work with attributes like job title, job industry category, bike brand, DOB, online order, wealth segment..."
   ]
  },
  {
   "cell_type": "code",
   "execution_count": 50,
   "id": "32074699-8908-4d2a-ac94-1f8aa3d97cb9",
   "metadata": {},
   "outputs": [
    {
     "data": {
      "text/plain": [
       "Social Worker                           226\n",
       "Legal Assistant                         221\n",
       "Business Systems Development Analyst    221\n",
       "Assistant Professor                     212\n",
       "Executive Secretary                     208\n",
       "                                       ... \n",
       "Administrative Assistant I               15\n",
       "Health Coach III                         14\n",
       "Geologist II                             11\n",
       "Research Assistant III                    9\n",
       "Developer I                               7\n",
       "Name: job_title, Length: 195, dtype: int64"
      ]
     },
     "execution_count": 50,
     "metadata": {},
     "output_type": "execute_result"
    }
   ],
   "source": [
    "# count job_titles of customers\n",
    "Customers[\"job_title\"].value_counts()\n"
   ]
  },
  {
   "cell_type": "code",
   "execution_count": 51,
   "id": "45dde2c3-7d48-4490-97c1-09df0931604f",
   "metadata": {},
   "outputs": [
    {
     "data": {
      "text/plain": [
       "195"
      ]
     },
     "execution_count": 51,
     "metadata": {},
     "output_type": "execute_result"
    }
   ],
   "source": [
    "# distinct number of job_titles\n",
    "Customers[\"job_title\"].nunique()"
   ]
  },
  {
   "cell_type": "markdown",
   "id": "8ee02a3e-860b-4eba-8524-68a05877cb14",
   "metadata": {},
   "source": [
    "#### Let's do a quick viz!"
   ]
  },
  {
   "cell_type": "code",
   "execution_count": 52,
   "id": "64f350d5-e68f-480f-bd3b-26d6245fb2da",
   "metadata": {
    "tags": []
   },
   "outputs": [
    {
     "data": {
      "text/plain": [
       "(array([0, 1, 2, 3, 4, 5, 6, 7, 8]),\n",
       " [Text(0, 0, 'Manufacturing'),\n",
       "  Text(1, 0, 'Financial Services'),\n",
       "  Text(2, 0, 'Health'),\n",
       "  Text(3, 0, 'Retail'),\n",
       "  Text(4, 0, 'Property'),\n",
       "  Text(5, 0, 'IT'),\n",
       "  Text(6, 0, 'Entertainment'),\n",
       "  Text(7, 0, 'Argiculture'),\n",
       "  Text(8, 0, 'Telecommunications')])"
      ]
     },
     "execution_count": 52,
     "metadata": {},
     "output_type": "execute_result"
    },
    {
     "data": {
      "image/png": "[encoded data removed]",
      "text/plain": [
       "<Figure size 640x480 with 1 Axes>"
      ]
     },
     "metadata": {},
     "output_type": "display_data"
    }
   ],
   "source": [
    "job_counts = Customers['job_industry_category'].value_counts().sort_values(ascending=False)\n",
    "sns.countplot(data=Customers, x='job_industry_category', order=job_counts.index)\n",
    "plt.xticks(rotation=80)"
   ]
  },
  {
   "cell_type": "markdown",
   "id": "dd8b5150-5fc1-412a-b2f5-928aae682404",
   "metadata": {},
   "source": [
    "#### Most common birth years"
   ]
  },
  {
   "cell_type": "code",
   "execution_count": 53,
   "id": "699ccbfd-8ca3-4cdb-8b92-c764f30dffd3",
   "metadata": {},
   "outputs": [
    {
     "data": {
      "text/plain": [
       "1978.0    1114\n",
       "1977.0    1062\n",
       "1976.0     776\n",
       "1974.0     754\n",
       "1980.0     636\n",
       "Name: DOB, dtype: int64"
      ]
     },
     "execution_count": 53,
     "metadata": {},
     "output_type": "execute_result"
    }
   ],
   "source": [
    "Birth_year = Customers[\"DOB\"].dt.year.value_counts().head()\n",
    "Birth_year"
   ]
  },
  {
   "cell_type": "markdown",
   "id": "688ef19c-232d-46bd-b3dc-3311e5c83551",
   "metadata": {},
   "source": [
    "Most customers birth years fall between 1978 - 1980"
   ]
  },
  {
   "cell_type": "markdown",
   "id": "5f0138be-2119-4e3d-8db7-7354088e2bd3",
   "metadata": {},
   "source": [
    "#### The wealth segment"
   ]
  },
  {
   "cell_type": "code",
   "execution_count": 54,
   "id": "2eed55a3-cd7a-4d95-8463-c7417f164093",
   "metadata": {},
   "outputs": [
    {
     "data": {
      "text/plain": [
       "Mass Customer        10029\n",
       "High Net Worth        5081\n",
       "Affluent Customer     4858\n",
       "Name: wealth_segment, dtype: int64"
      ]
     },
     "execution_count": 54,
     "metadata": {},
     "output_type": "execute_result"
    }
   ],
   "source": [
    "Wealth_segment = Customers[\"wealth_segment\"].value_counts()\n",
    "Wealth_segment"
   ]
  },
  {
   "cell_type": "markdown",
   "id": "d248b631-32b9-4a35-87ac-7d74a8bacaaf",
   "metadata": {},
   "source": [
    "Most customers are of the lowest classification of customers - Mass Customers"
   ]
  },
  {
   "cell_type": "markdown",
   "id": "9e15627d-a1e9-4598-b0f4-673fb70a31c9",
   "metadata": {},
   "source": [
    "#### Gender count"
   ]
  },
  {
   "cell_type": "code",
   "execution_count": 55,
   "id": "7b33c6a2-0175-4225-84ab-d9a58ba2e5f2",
   "metadata": {},
   "outputs": [
    {
     "data": {
      "text/plain": [
       "Female    9997\n",
       "Male      9516\n",
       "Name: gender, dtype: int64"
      ]
     },
     "execution_count": 55,
     "metadata": {},
     "output_type": "execute_result"
    }
   ],
   "source": [
    "Customers[\"gender\"].value_counts()\n"
   ]
  },
  {
   "cell_type": "code",
   "execution_count": 71,
   "id": "2fa6ff44-f89c-400e-9246-895f1ba5ad48",
   "metadata": {},
   "outputs": [
    {
     "name": "stdout",
     "output_type": "stream",
     "text": [
      "gender\n",
      "Female    11004937.76\n",
      "Male      10581846.33\n",
      "Name: list_price, dtype: float64\n"
     ]
    }
   ],
   "source": [
    "# Group by gender and sum the list_price column\n",
    "revenue_by_gender = Customers.groupby(\"gender\")[\"list_price\"].sum()\n",
    "\n",
    "# Print the resulting Series\n",
    "print(revenue_by_gender)"
   ]
  },
  {
   "cell_type": "markdown",
   "id": "ef004f7b-c5d5-4a4d-a248-699ca95f4855",
   "metadata": {},
   "source": [
    "#### Creating Age range"
   ]
  },
  {
   "cell_type": "code",
   "execution_count": 75,
   "id": "56eeedaf-65df-48c3-87b5-58610029484d",
   "metadata": {},
   "outputs": [
    {
     "data": {
      "text/plain": [
       "0        61-70\n",
       "1        61-70\n",
       "2        61-70\n",
       "3        61-70\n",
       "4        61-70\n",
       "         ...  \n",
       "19963    51-60\n",
       "19964    51-60\n",
       "19965    51-60\n",
       "19966    51-60\n",
       "19967    51-60\n",
       "Name: Age, Length: 19968, dtype: category\n",
       "Categories (8, object): ['<18' < '18-30' < '31-40' < '41-50' < '51-60' < '61-70' < '71-80' < '81-91']"
      ]
     },
     "execution_count": 75,
     "metadata": {},
     "output_type": "execute_result"
    }
   ],
   "source": [
    "import datetime as dt\n",
    "pd.set_option('display.max_rows', 10)\n",
    "# Calculate current year\n",
    "current_year = dt.datetime.now().year\n",
    "\n",
    "# Create a new column for age\n",
    "Customers['Age'] = current_year - Customers['DOB'].dt.year\n",
    "\n",
    "# Create age range categories\n",
    "age_ranges = pd.cut(Customers['Age'], bins=[0, 18, 30, 40, 50, 60, 70, 80, 90], \n",
    "                    labels=['<18', '18-30', '31-40', '41-50', '51-60', '61-70', '71-80', '81-91'])\n",
    "\n",
    "# Assign age ranges to the original datafra = age_ranges\n",
    "Customers['Age_range'] = age_ranges\n",
    "age_ranges"
   ]
  },
  {
   "cell_type": "code",
   "execution_count": 76,
   "id": "9e69e29b-2430-40fb-9260-5614d77af373",
   "metadata": {},
   "outputs": [
    {
     "data": {
      "text/plain": [
       "Age_range\n",
       "<18            0.00\n",
       "18-30    3332619.14\n",
       "31-40    3669317.65\n",
       "41-50    7395795.77\n",
       "51-60    3876659.58\n",
       "61-70    3277555.81\n",
       "71-80      13972.18\n",
       "81-91       7859.61\n",
       "Name: list_price, dtype: float64"
      ]
     },
     "execution_count": 76,
     "metadata": {},
     "output_type": "execute_result"
    }
   ],
   "source": [
    "# Calculate revenue per age range\n",
    "revenue_by_age = Customers.groupby('Age_range')['list_price'].sum()\n",
    "revenue_by_age\n"
   ]
  },
  {
   "cell_type": "markdown",
   "id": "4eeec433-de70-4f35-8adf-dbe592853300",
   "metadata": {},
   "source": [
    "#### Total Revenue & Total profit "
   ]
  },
  {
   "cell_type": "code",
   "execution_count": 77,
   "id": "c116d79e-0f0d-4cc2-a45a-c19416af2c98",
   "metadata": {},
   "outputs": [
    {
     "name": "stdout",
     "output_type": "stream",
     "text": [
      "Total Profit: 11124562.790000001\n"
     ]
    }
   ],
   "source": [
    "# Total Revenue\n",
    "total_revenue = Customers[\"list_price\"].sum()\n",
    "\n",
    "# Total Standard Cost\n",
    "total_standard_cost = Customers[\"standard_cost\"].sum()\n",
    "\n",
    "# Total Profit\n",
    "total_profit = total_revenue - total_standard_cost\n",
    "\n",
    "print(\"Total Profit:\", total_profit)"
   ]
  },
  {
   "cell_type": "code",
   "execution_count": 78,
   "id": "c12d75ab-e058-4b82-82e4-43d0c6da4fe9",
   "metadata": {},
   "outputs": [
    {
     "data": {
      "text/plain": [
       "brand\n",
       "Giant Bicycles    4087286.32\n",
       "Norco Bicycles    2653270.18\n",
       "OHM Cycles        2990291.79\n",
       "Solex             4492867.78\n",
       "Trek Bicycles     3530928.30\n",
       "WeareA2B          4154701.36\n",
       "Name: list_price, dtype: float64"
      ]
     },
     "execution_count": 78,
     "metadata": {},
     "output_type": "execute_result"
    }
   ],
   "source": [
    "bike_brand_revenue = Customers.groupby('brand')['list_price'].sum()\n",
    "bike_brand_revenue"
   ]
  },
  {
   "cell_type": "code",
   "execution_count": 79,
   "id": "b1ce80c3-0997-4bea-a9a1-72abd61a6112",
   "metadata": {},
   "outputs": [
    {
     "name": "stdout",
     "output_type": "stream",
     "text": [
      "             state   list_price\n",
      "0  New South Wales  11767595.09\n",
      "1       Queensland   4769643.58\n",
      "2         Victoria   5582912.45\n"
     ]
    }
   ],
   "source": [
    "# Calculate revenue by state\n",
    "revenue_by_state = Customers.groupby('state')['list_price'].sum().reset_index()\n",
    "\n",
    "# Print the resulting dataframe\n",
    "print(revenue_by_state)"
   ]
  },
  {
   "cell_type": "markdown",
   "id": "c00f7e19-df18-424d-8020-210fe63521ec",
   "metadata": {
    "tags": []
   },
   "source": [
    "#### Let's see the job categories and if they own cars"
   ]
  },
  {
   "cell_type": "code",
   "execution_count": 80,
   "id": "7604622a-e706-4b3d-80b6-f91e268ceceb",
   "metadata": {},
   "outputs": [
    {
     "data": {
      "text/plain": [
       "job_industry_category  brand           owns_car\n",
       "Argiculture            Giant Bicycles  Yes         54\n",
       "                                       No          42\n",
       "                       Norco Bicycles  Yes         40\n",
       "                                       No          39\n",
       "                       OHM Cycles      Yes         48\n",
       "                                                   ..\n",
       "Telecommunications     Solex           No          38\n",
       "                       Trek Bicycles   Yes         23\n",
       "                                       No          18\n",
       "                       WeareA2B        No          31\n",
       "                                       Yes         29\n",
       "Name: owns_car, Length: 108, dtype: int64"
      ]
     },
     "execution_count": 80,
     "metadata": {},
     "output_type": "execute_result"
    }
   ],
   "source": [
    "car_ownership = Customers.groupby(['job_industry_category', 'brand'])['owns_car'].value_counts()\n",
    "car_ownership"
   ]
  },
  {
   "cell_type": "markdown",
   "id": "f22bdd24-8eaa-4b33-a499-2435d1b465b0",
   "metadata": {},
   "source": [
    "#### Orders per month"
   ]
  },
  {
   "cell_type": "code",
   "execution_count": 90,
   "id": "38c1a287-bfcd-4aa9-8dc8-c38abdfac006",
   "metadata": {},
   "outputs": [
    {
     "name": "stdout",
     "output_type": "stream",
     "text": [
      "1     1679\n",
      "2     1622\n",
      "3     1652\n",
      "4     1652\n",
      "5     1683\n",
      "      ... \n",
      "8     1746\n",
      "9     1566\n",
      "10    1768\n",
      "11    1663\n",
      "12    1643\n",
      "Name: month, Length: 12, dtype: int64\n"
     ]
    }
   ],
   "source": [
    "import pandas as pd\n",
    "\n",
    "# Convert 'transaction_date' column to datetime\n",
    "Customers['transaction_date'] = pd.to_datetime(Customers['transaction_date'])\n",
    "\n",
    "# Extract month from 'transaction_date'\n",
    "Customers['month'] = Customers['transaction_date'].dt.month\n",
    "\n",
    "# Count number of orders per month\n",
    "orders_per_month = Customers['month'].value_counts().sort_index()\n",
    "\n",
    "print(orders_per_month)\n"
   ]
  },
  {
   "cell_type": "markdown",
   "id": "20912132-200a-44d7-ae27-e489611ec305",
   "metadata": {},
   "source": [
    "##### Insights & Figures\n",
    "- The total revenue is $22,120,151.12.\n",
    "\n",
    "- The total profit is $11,124,562.\n",
    "\n",
    "- Females generate more revenue ($1,004,937.76), \n",
    "\n",
    "- Males generate less revenue ($10,581,846.33).\n",
    "\n",
    "- Most customers are of the lowest classification of customers - Mass Customers(10,029).\n",
    "\n",
    "- Most customers birth years fall between 1978 - 1980.\n",
    "\n",
    "- Customers ages 40 - 50 generate the most revenue ($7,395,795.77). \n",
    "\n",
    "> This is followed by Customers ages 50 - 60 with a revenue of $3,876,659.58\n",
    "\n",
    "- The Solex bike brand generated the most revenue ($4,492,867.78).\n",
    "\n",
    "- New South Wales produced the highest revenue ($11,767,595.09)."
   ]
  },
  {
   "cell_type": "markdown",
   "id": "205ae5ed-6908-44ec-8901-f059238b2d78",
   "metadata": {},
   "source": [
    "# Data Report and Visualization would be done on a dashboard with Power BI."
   ]
  },
  {
   "cell_type": "code",
   "execution_count": 91,
   "id": "aaa9aa6b-d74c-43dd-a93f-e6fc4346c937",
   "metadata": {},
   "outputs": [],
   "source": [
    "# Exporting our clean data to an excel format\n",
    "Customers.to_excel(\"Customers.xlsx\", index=False)"
   ]
  },
  {
   "cell_type": "code",
   "execution_count": 93,
   "id": "4a0637d5-17cb-4775-9887-650c9efff03a",
   "metadata": {},
   "outputs": [],
   "source": [
    "# Saving as a notebook(.ipynb) \n",
    "%notebook \"C:/Users/HP/Downloads/KPMG-pythcodes.ipynb\" "
   ]
  },
  {
   "cell_type": "code",
   "execution_count": null,
   "id": "7cc4bd2b-0a69-47e7-9097-41111824f409",
   "metadata": {},
   "outputs": [],
   "source": []
  }
 ],
 "metadata": {
  "kernelspec": {
   "display_name": "Python 3 (ipykernel)",
   "language": "python",
   "name": "python3"
  },
  "language_info": {
   "codemirror_mode": {
    "name": "ipython",
    "version": 3
   },
   "file_extension": ".py",
   "mimetype": "text/x-python",
   "name": "python",
   "nbconvert_exporter": "python",
   "pygments_lexer": "ipython3",
   "version": "3.10.9"
  }
 },
 "nbformat": 4,
 "nbformat_minor": 5
}
